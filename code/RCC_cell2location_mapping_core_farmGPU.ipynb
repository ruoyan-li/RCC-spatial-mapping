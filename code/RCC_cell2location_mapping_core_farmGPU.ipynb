{
 "cells": [
  {
   "cell_type": "code",
   "execution_count": 1,
   "id": "familiar-shoulder",
   "metadata": {},
   "outputs": [
    {
     "name": "stderr",
     "output_type": "stream",
     "text": [
      "Global seed set to 0\n"
     ]
    }
   ],
   "source": [
    "import sys\n",
    "import scanpy as sc\n",
    "import anndata\n",
    "import pandas as pd\n",
    "import numpy as np\n",
    "import matplotlib.pyplot as plt \n",
    "import matplotlib as mpl\n",
    "\n",
    "import cell2location\n",
    "import scvi\n",
    "\n",
    "from matplotlib import rcParams\n",
    "rcParams['pdf.fonttype'] = 42 # enables correct plotting of text\n",
    "import seaborn as sns\n"
   ]
  },
  {
   "cell_type": "markdown",
   "id": "thrown-match",
   "metadata": {},
   "source": [
    "### Functions"
   ]
  },
  {
   "cell_type": "code",
   "execution_count": 2,
   "id": "historic-gathering",
   "metadata": {},
   "outputs": [],
   "source": [
    "def read_and_qc(sample_name, path):\n",
    "    r\"\"\" This function reads the data for one 10X spatial experiment into the anndata object.\n",
    "    It also calculates QC metrics. Modify this function if required by your workflow.\n",
    "\n",
    "    :param sample_name: Name of the sample\n",
    "    :param path: path to data\n",
    "    \"\"\"\n",
    "\n",
    "    adata = sc.read_visium(path + str(sample_name),\n",
    "                           count_file='filtered_feature_bc_matrix.h5', load_images=True)\n",
    "    adata.var_names_make_unique(join='-')\n",
    "    \n",
    "    adata.obs['sample'] = sample_name\n",
    "    \n",
    "    # rename genes to ENSEMBL\n",
    "    adata.var['SYMBOL'] = adata.var_names\n",
    "    adata.var_names = adata.var['gene_ids']\n",
    "    adata.var_names.name = None\n",
    "\n",
    "    # Calculate QC metrics\n",
    "    sc.pp.calculate_qc_metrics(adata, inplace=True)\n",
    "    adata.var['mt'] = [gene.startswith('MT-') for gene in adata.var['SYMBOL']]\n",
    "    adata.obs['mt_frac'] = adata[:, adata.var['mt'].tolist()].X.sum(1).A.squeeze()/adata.obs['total_counts']\n",
    "\n",
    "    # add sample name to obs names\n",
    "    adata.obs[\"sample\"] = [str(i) for i in adata.obs['sample']]\n",
    "    adata.obs_names = adata.obs[\"sample\"] \\\n",
    "                          + '_' + adata.obs_names\n",
    "    adata.obs.index.name = 'spot_id'\n",
    "\n",
    "    return adata\n",
    "\n",
    "def select_slide(adata, s, s_col='sample'):\n",
    "    r\"\"\" This function selects the data for one slide from the spatial anndata object.\n",
    "\n",
    "    :param adata: Anndata object with multiple spatial experiments\n",
    "    :param s: name of selected experiment\n",
    "    :param s_col: column in adata.obs listing experiment name for each location\n",
    "    \"\"\"\n",
    "\n",
    "    slide = adata[adata.obs[s_col].isin([s]), :]\n",
    "    s_keys = list(slide.uns['spatial'].keys())\n",
    "    s_spatial = np.array(s_keys)[[s in k for k in s_keys]][0]\n",
    "\n",
    "    slide.uns['spatial'] = {s_spatial: slide.uns['spatial'][s_spatial]}\n",
    "\n",
    "    return slide"
   ]
  },
  {
   "cell_type": "code",
   "execution_count": 3,
   "id": "excess-velvet",
   "metadata": {},
   "outputs": [
    {
     "data": {
      "text/html": [
       "<div>\n",
       "<style scoped>\n",
       "    .dataframe tbody tr th:only-of-type {\n",
       "        vertical-align: middle;\n",
       "    }\n",
       "\n",
       "    .dataframe tbody tr th {\n",
       "        vertical-align: top;\n",
       "    }\n",
       "\n",
       "    .dataframe thead th {\n",
       "        text-align: right;\n",
       "    }\n",
       "</style>\n",
       "<table border=\"1\" class=\"dataframe\">\n",
       "  <thead>\n",
       "    <tr style=\"text-align: right;\">\n",
       "      <th></th>\n",
       "      <th>sample_id</th>\n",
       "      <th>donor_id</th>\n",
       "      <th>region</th>\n",
       "    </tr>\n",
       "  </thead>\n",
       "  <tbody>\n",
       "    <tr>\n",
       "      <th>0</th>\n",
       "      <td>6800STDY12499406</td>\n",
       "      <td>PD47171</td>\n",
       "      <td>g</td>\n",
       "    </tr>\n",
       "    <tr>\n",
       "      <th>1</th>\n",
       "      <td>6800STDY12499407</td>\n",
       "      <td>PD47171</td>\n",
       "      <td>a1</td>\n",
       "    </tr>\n",
       "    <tr>\n",
       "      <th>2</th>\n",
       "      <td>6800STDY12499408</td>\n",
       "      <td>PD45814</td>\n",
       "      <td>a1</td>\n",
       "    </tr>\n",
       "    <tr>\n",
       "      <th>3</th>\n",
       "      <td>6800STDY12499409</td>\n",
       "      <td>PD45816</td>\n",
       "      <td>g</td>\n",
       "    </tr>\n",
       "    <tr>\n",
       "      <th>4</th>\n",
       "      <td>6800STDY12499410</td>\n",
       "      <td>PD43824</td>\n",
       "      <td>a1</td>\n",
       "    </tr>\n",
       "    <tr>\n",
       "      <th>5</th>\n",
       "      <td>6800STDY12499411</td>\n",
       "      <td>PD43948</td>\n",
       "      <td>g</td>\n",
       "    </tr>\n",
       "    <tr>\n",
       "      <th>6</th>\n",
       "      <td>6800STDY12499412</td>\n",
       "      <td>PD47512</td>\n",
       "      <td>a1</td>\n",
       "    </tr>\n",
       "    <tr>\n",
       "      <th>7</th>\n",
       "      <td>6800STDY12499413</td>\n",
       "      <td>PD47512</td>\n",
       "      <td>a1</td>\n",
       "    </tr>\n",
       "    <tr>\n",
       "      <th>8</th>\n",
       "      <td>6800STDY12499502</td>\n",
       "      <td>PD45814</td>\n",
       "      <td>g</td>\n",
       "    </tr>\n",
       "    <tr>\n",
       "      <th>9</th>\n",
       "      <td>6800STDY12499503</td>\n",
       "      <td>PD45814</td>\n",
       "      <td>g</td>\n",
       "    </tr>\n",
       "    <tr>\n",
       "      <th>10</th>\n",
       "      <td>6800STDY12499504</td>\n",
       "      <td>PD45815</td>\n",
       "      <td>g</td>\n",
       "    </tr>\n",
       "    <tr>\n",
       "      <th>11</th>\n",
       "      <td>6800STDY12499505</td>\n",
       "      <td>PD45815</td>\n",
       "      <td>g</td>\n",
       "    </tr>\n",
       "    <tr>\n",
       "      <th>12</th>\n",
       "      <td>6800STDY12499506</td>\n",
       "      <td>PD45816</td>\n",
       "      <td>g</td>\n",
       "    </tr>\n",
       "    <tr>\n",
       "      <th>13</th>\n",
       "      <td>6800STDY12499507</td>\n",
       "      <td>PD45816</td>\n",
       "      <td>g</td>\n",
       "    </tr>\n",
       "    <tr>\n",
       "      <th>14</th>\n",
       "      <td>6800STDY12499508</td>\n",
       "      <td>PD47465</td>\n",
       "      <td>g</td>\n",
       "    </tr>\n",
       "    <tr>\n",
       "      <th>15</th>\n",
       "      <td>6800STDY12499509</td>\n",
       "      <td>PD47465</td>\n",
       "      <td>g</td>\n",
       "    </tr>\n",
       "  </tbody>\n",
       "</table>\n",
       "</div>"
      ],
      "text/plain": [
       "           sample_id donor_id region\n",
       "0   6800STDY12499406  PD47171      g\n",
       "1   6800STDY12499407  PD47171     a1\n",
       "2   6800STDY12499408  PD45814     a1\n",
       "3   6800STDY12499409  PD45816      g\n",
       "4   6800STDY12499410  PD43824     a1\n",
       "5   6800STDY12499411  PD43948      g\n",
       "6   6800STDY12499412  PD47512     a1\n",
       "7   6800STDY12499413  PD47512     a1\n",
       "8   6800STDY12499502  PD45814      g\n",
       "9   6800STDY12499503  PD45814      g\n",
       "10  6800STDY12499504  PD45815      g\n",
       "11  6800STDY12499505  PD45815      g\n",
       "12  6800STDY12499506  PD45816      g\n",
       "13  6800STDY12499507  PD45816      g\n",
       "14  6800STDY12499508  PD47465      g\n",
       "15  6800STDY12499509  PD47465      g"
      ]
     },
     "execution_count": 3,
     "metadata": {},
     "output_type": "execute_result"
    }
   ],
   "source": [
    "meta = pd.read_csv('/lustre/scratch117/cellgen/team205/rl20/kidney_final/Visium/spaceranger/meta_visium.csv')\n",
    "meta"
   ]
  },
  {
   "cell_type": "markdown",
   "id": "considerable-favorite",
   "metadata": {},
   "source": [
    "## Data, parameters"
   ]
  },
  {
   "cell_type": "code",
   "execution_count": 4,
   "id": "mature-stand",
   "metadata": {},
   "outputs": [],
   "source": [
    "results_folder = '/lustre/scratch117/cellgen/team205/rl20/kidney_final/Visium/allgene'\n",
    "\n",
    "# create paths and names to results folders for reference regression and cell2location models\n",
    "ref_run_name = f'{results_folder}/reference_signatures'\n",
    "run_name = f'{results_folder}/cell2location_map_core'"
   ]
  },
  {
   "cell_type": "code",
   "execution_count": 5,
   "id": "athletic-hindu",
   "metadata": {},
   "outputs": [
    {
     "data": {
      "text/plain": [
       "['6800STDY12499406',\n",
       " '6800STDY12499407',\n",
       " '6800STDY12499408',\n",
       " '6800STDY12499409',\n",
       " '6800STDY12499410',\n",
       " '6800STDY12499411',\n",
       " '6800STDY12499412',\n",
       " '6800STDY12499413',\n",
       " '6800STDY12499502',\n",
       " '6800STDY12499503',\n",
       " '6800STDY12499504',\n",
       " '6800STDY12499505',\n",
       " '6800STDY12499506',\n",
       " '6800STDY12499507',\n",
       " '6800STDY12499508',\n",
       " '6800STDY12499509']"
      ]
     },
     "execution_count": 5,
     "metadata": {},
     "output_type": "execute_result"
    }
   ],
   "source": [
    "celltype_key='annotation'\n",
    "sampleIDs = meta['sample_id']\n",
    "sampleIDs = list(map(str, sampleIDs))\n",
    "sp_data_folder = '/lustre/scratch117/cellgen/team205/rl20/kidney_final/spaceranger'\n",
    "sampleIDs"
   ]
  },
  {
   "cell_type": "code",
   "execution_count": 6,
   "id": "appointed-harvey",
   "metadata": {},
   "outputs": [],
   "source": [
    "input_file = '/lustre/scratch117/cellgen/team205/rl20/kidney_final/Visium/object/visium_merge_core.h5ad'\n",
    "adata_vis = sc.read_h5ad(input_file)"
   ]
  },
  {
   "cell_type": "markdown",
   "id": "eastern-language",
   "metadata": {
    "tags": []
   },
   "source": [
    "## cell2location mapping"
   ]
  },
  {
   "cell_type": "code",
   "execution_count": 7,
   "id": "configured-chase",
   "metadata": {
    "scrolled": true
   },
   "outputs": [
    {
     "name": "stdout",
     "output_type": "stream",
     "text": [
      "\u001b[34mINFO    \u001b[0m Using batches from adata.obs\u001b[1m[\u001b[0m\u001b[32m\"sample\"\u001b[0m\u001b[1m]\u001b[0m                                              \n",
      "\u001b[34mINFO    \u001b[0m No label_key inputted, assuming all cells have same label                           \n",
      "\u001b[34mINFO    \u001b[0m Using data from adata.X                                                             \n"
     ]
    },
    {
     "name": "stderr",
     "output_type": "stream",
     "text": [
      "/lustre/scratch117/cellgen/team205/rl20/miniconda3/envs/cell2loc_env/lib/python3.9/site-packages/sklearn/utils/deprecation.py:87: FutureWarning: Function setup_anndata is deprecated; Please use the model-specific setup_anndata methods instead. The global method will be removed in version 0.15.0.\n"
     ]
    },
    {
     "name": "stdout",
     "output_type": "stream",
     "text": [
      "\u001b[34mINFO    \u001b[0m Successfully registered anndata object containing \u001b[1;36m10924\u001b[0m cells, \u001b[1;36m13042\u001b[0m vars, \u001b[1;36m5\u001b[0m        \n",
      "         batches, \u001b[1;36m1\u001b[0m labels, and \u001b[1;36m0\u001b[0m proteins. Also registered \u001b[1;36m0\u001b[0m extra categorical covariates   \n",
      "         and \u001b[1;36m0\u001b[0m extra continuous covariates.                                                  \n",
      "\u001b[34mINFO    \u001b[0m Please do not further modify adata until model is trained.                          \n"
     ]
    },
    {
     "name": "stderr",
     "output_type": "stream",
     "text": [
      "/lustre/scratch117/cellgen/team205/rl20/miniconda3/envs/cell2loc_env/lib/python3.9/site-packages/sklearn/utils/deprecation.py:87: FutureWarning: Function view_anndata_setup is deprecated; This method will be removed in 0.15.0. Please avoid building any new dependencies on it.\n"
     ]
    },
    {
     "data": {
      "text/html": [
       "<pre style=\"white-space:pre;overflow-x:auto;line-height:normal;font-family:Menlo,'DejaVu Sans Mono',consolas,'Courier New',monospace\">Anndata setup with scvi-tools version <span style=\"color: #008080; text-decoration-color: #008080; font-weight: bold\">0.14</span>.<span style=\"color: #008080; text-decoration-color: #008080; font-weight: bold\">6</span>.\n",
       "</pre>\n"
      ],
      "text/plain": [
       "Anndata setup with scvi-tools version \u001b[1;36m0.14\u001b[0m.\u001b[1;36m6\u001b[0m.\n"
      ]
     },
     "metadata": {},
     "output_type": "display_data"
    },
    {
     "data": {
      "text/html": [
       "<pre style=\"white-space:pre;overflow-x:auto;line-height:normal;font-family:Menlo,'DejaVu Sans Mono',consolas,'Courier New',monospace\"><span style=\"font-style: italic\">              Data Summary              </span>\n",
       "┏━━━━━━━━━━━━━━━━━━━━━━━━━━━━━━┳━━━━━━━┓\n",
       "┃<span style=\"font-weight: bold\">             Data             </span>┃<span style=\"font-weight: bold\"> Count </span>┃\n",
       "┡━━━━━━━━━━━━━━━━━━━━━━━━━━━━━━╇━━━━━━━┩\n",
       "│<span style=\"color: #0087ff; text-decoration-color: #0087ff\">            Cells             </span>│<span style=\"color: #af00d7; text-decoration-color: #af00d7\"> 10924 </span>│\n",
       "│<span style=\"color: #0087ff; text-decoration-color: #0087ff\">             Vars             </span>│<span style=\"color: #af00d7; text-decoration-color: #af00d7\"> 13042 </span>│\n",
       "│<span style=\"color: #0087ff; text-decoration-color: #0087ff\">            Labels            </span>│<span style=\"color: #af00d7; text-decoration-color: #af00d7\">   1   </span>│\n",
       "│<span style=\"color: #0087ff; text-decoration-color: #0087ff\">           Batches            </span>│<span style=\"color: #af00d7; text-decoration-color: #af00d7\">   5   </span>│\n",
       "│<span style=\"color: #0087ff; text-decoration-color: #0087ff\">           Proteins           </span>│<span style=\"color: #af00d7; text-decoration-color: #af00d7\">   0   </span>│\n",
       "│<span style=\"color: #0087ff; text-decoration-color: #0087ff\"> Extra Categorical Covariates </span>│<span style=\"color: #af00d7; text-decoration-color: #af00d7\">   0   </span>│\n",
       "│<span style=\"color: #0087ff; text-decoration-color: #0087ff\"> Extra Continuous Covariates  </span>│<span style=\"color: #af00d7; text-decoration-color: #af00d7\">   0   </span>│\n",
       "└──────────────────────────────┴───────┘\n",
       "</pre>\n"
      ],
      "text/plain": [
       "\u001b[3m              Data Summary              \u001b[0m\n",
       "┏━━━━━━━━━━━━━━━━━━━━━━━━━━━━━━┳━━━━━━━┓\n",
       "┃\u001b[1m \u001b[0m\u001b[1m            Data            \u001b[0m\u001b[1m \u001b[0m┃\u001b[1m \u001b[0m\u001b[1mCount\u001b[0m\u001b[1m \u001b[0m┃\n",
       "┡━━━━━━━━━━━━━━━━━━━━━━━━━━━━━━╇━━━━━━━┩\n",
       "│\u001b[38;5;33m \u001b[0m\u001b[38;5;33m           Cells            \u001b[0m\u001b[38;5;33m \u001b[0m│\u001b[38;5;128m \u001b[0m\u001b[38;5;128m10924\u001b[0m\u001b[38;5;128m \u001b[0m│\n",
       "│\u001b[38;5;33m \u001b[0m\u001b[38;5;33m            Vars            \u001b[0m\u001b[38;5;33m \u001b[0m│\u001b[38;5;128m \u001b[0m\u001b[38;5;128m13042\u001b[0m\u001b[38;5;128m \u001b[0m│\n",
       "│\u001b[38;5;33m \u001b[0m\u001b[38;5;33m           Labels           \u001b[0m\u001b[38;5;33m \u001b[0m│\u001b[38;5;128m \u001b[0m\u001b[38;5;128m  1  \u001b[0m\u001b[38;5;128m \u001b[0m│\n",
       "│\u001b[38;5;33m \u001b[0m\u001b[38;5;33m          Batches           \u001b[0m\u001b[38;5;33m \u001b[0m│\u001b[38;5;128m \u001b[0m\u001b[38;5;128m  5  \u001b[0m\u001b[38;5;128m \u001b[0m│\n",
       "│\u001b[38;5;33m \u001b[0m\u001b[38;5;33m          Proteins          \u001b[0m\u001b[38;5;33m \u001b[0m│\u001b[38;5;128m \u001b[0m\u001b[38;5;128m  0  \u001b[0m\u001b[38;5;128m \u001b[0m│\n",
       "│\u001b[38;5;33m \u001b[0m\u001b[38;5;33mExtra Categorical Covariates\u001b[0m\u001b[38;5;33m \u001b[0m│\u001b[38;5;128m \u001b[0m\u001b[38;5;128m  0  \u001b[0m\u001b[38;5;128m \u001b[0m│\n",
       "│\u001b[38;5;33m \u001b[0m\u001b[38;5;33mExtra Continuous Covariates \u001b[0m\u001b[38;5;33m \u001b[0m│\u001b[38;5;128m \u001b[0m\u001b[38;5;128m  0  \u001b[0m\u001b[38;5;128m \u001b[0m│\n",
       "└──────────────────────────────┴───────┘\n"
      ]
     },
     "metadata": {},
     "output_type": "display_data"
    },
    {
     "data": {
      "text/html": [
       "<pre style=\"white-space:pre;overflow-x:auto;line-height:normal;font-family:Menlo,'DejaVu Sans Mono',consolas,'Courier New',monospace\"><span style=\"font-style: italic\">             SCVI Data Registry              </span>\n",
       "┏━━━━━━━━━━━━━━━┳━━━━━━━━━━━━━━━━━━━━━━━━━━━┓\n",
       "┃<span style=\"font-weight: bold\">     Data      </span>┃<span style=\"font-weight: bold\">    scvi-tools Location    </span>┃\n",
       "┡━━━━━━━━━━━━━━━╇━━━━━━━━━━━━━━━━━━━━━━━━━━━┩\n",
       "│<span style=\"color: #0087ff; text-decoration-color: #0087ff\">       X       </span>│<span style=\"color: #af00d7; text-decoration-color: #af00d7\">          adata.X          </span>│\n",
       "│<span style=\"color: #0087ff; text-decoration-color: #0087ff\"> batch_indices </span>│<span style=\"color: #af00d7; text-decoration-color: #af00d7\"> adata.obs['_scvi_batch']  </span>│\n",
       "│<span style=\"color: #0087ff; text-decoration-color: #0087ff\">    labels     </span>│<span style=\"color: #af00d7; text-decoration-color: #af00d7\"> adata.obs['_scvi_labels'] </span>│\n",
       "└───────────────┴───────────────────────────┘\n",
       "</pre>\n"
      ],
      "text/plain": [
       "\u001b[3m             SCVI Data Registry              \u001b[0m\n",
       "┏━━━━━━━━━━━━━━━┳━━━━━━━━━━━━━━━━━━━━━━━━━━━┓\n",
       "┃\u001b[1m \u001b[0m\u001b[1m    Data     \u001b[0m\u001b[1m \u001b[0m┃\u001b[1m \u001b[0m\u001b[1m   scvi-tools Location   \u001b[0m\u001b[1m \u001b[0m┃\n",
       "┡━━━━━━━━━━━━━━━╇━━━━━━━━━━━━━━━━━━━━━━━━━━━┩\n",
       "│\u001b[38;5;33m \u001b[0m\u001b[38;5;33m      X      \u001b[0m\u001b[38;5;33m \u001b[0m│\u001b[38;5;128m \u001b[0m\u001b[38;5;128m         adata.X         \u001b[0m\u001b[38;5;128m \u001b[0m│\n",
       "│\u001b[38;5;33m \u001b[0m\u001b[38;5;33mbatch_indices\u001b[0m\u001b[38;5;33m \u001b[0m│\u001b[38;5;128m \u001b[0m\u001b[38;5;128madata.obs['_scvi_batch'] \u001b[0m\u001b[38;5;128m \u001b[0m│\n",
       "│\u001b[38;5;33m \u001b[0m\u001b[38;5;33m   labels    \u001b[0m\u001b[38;5;33m \u001b[0m│\u001b[38;5;128m \u001b[0m\u001b[38;5;128madata.obs['_scvi_labels']\u001b[0m\u001b[38;5;128m \u001b[0m│\n",
       "└───────────────┴───────────────────────────┘\n"
      ]
     },
     "metadata": {},
     "output_type": "display_data"
    },
    {
     "data": {
      "text/html": [
       "<pre style=\"white-space:pre;overflow-x:auto;line-height:normal;font-family:Menlo,'DejaVu Sans Mono',consolas,'Courier New',monospace\"><span style=\"font-style: italic\">                        Label Categories                        </span>\n",
       "┏━━━━━━━━━━━━━━━━━━━━━━━━━━━┳━━━━━━━━━━━━┳━━━━━━━━━━━━━━━━━━━━━┓\n",
       "┃<span style=\"font-weight: bold\">      Source Location      </span>┃<span style=\"font-weight: bold\"> Categories </span>┃<span style=\"font-weight: bold\"> scvi-tools Encoding </span>┃\n",
       "┡━━━━━━━━━━━━━━━━━━━━━━━━━━━╇━━━━━━━━━━━━╇━━━━━━━━━━━━━━━━━━━━━┩\n",
       "│<span style=\"color: #0087ff; text-decoration-color: #0087ff\"> adata.obs['_scvi_labels'] </span>│<span style=\"color: #008000; text-decoration-color: #008000\">     0      </span>│<span style=\"color: #af00d7; text-decoration-color: #af00d7\">          0          </span>│\n",
       "└───────────────────────────┴────────────┴─────────────────────┘\n",
       "</pre>\n"
      ],
      "text/plain": [
       "\u001b[3m                        Label Categories                        \u001b[0m\n",
       "┏━━━━━━━━━━━━━━━━━━━━━━━━━━━┳━━━━━━━━━━━━┳━━━━━━━━━━━━━━━━━━━━━┓\n",
       "┃\u001b[1m \u001b[0m\u001b[1m     Source Location     \u001b[0m\u001b[1m \u001b[0m┃\u001b[1m \u001b[0m\u001b[1mCategories\u001b[0m\u001b[1m \u001b[0m┃\u001b[1m \u001b[0m\u001b[1mscvi-tools Encoding\u001b[0m\u001b[1m \u001b[0m┃\n",
       "┡━━━━━━━━━━━━━━━━━━━━━━━━━━━╇━━━━━━━━━━━━╇━━━━━━━━━━━━━━━━━━━━━┩\n",
       "│\u001b[38;5;33m \u001b[0m\u001b[38;5;33madata.obs['_scvi_labels']\u001b[0m\u001b[38;5;33m \u001b[0m│\u001b[32m \u001b[0m\u001b[32m    0     \u001b[0m\u001b[32m \u001b[0m│\u001b[38;5;128m \u001b[0m\u001b[38;5;128m         0         \u001b[0m\u001b[38;5;128m \u001b[0m│\n",
       "└───────────────────────────┴────────────┴─────────────────────┘\n"
      ]
     },
     "metadata": {},
     "output_type": "display_data"
    },
    {
     "data": {
      "text/html": [
       "<pre style=\"white-space:pre;overflow-x:auto;line-height:normal;font-family:Menlo,'DejaVu Sans Mono',consolas,'Courier New',monospace\"><span style=\"font-style: italic\">                        Batch Categories                        </span>\n",
       "┏━━━━━━━━━━━━━━━━━━━━━┳━━━━━━━━━━━━━━━━━━┳━━━━━━━━━━━━━━━━━━━━━┓\n",
       "┃<span style=\"font-weight: bold\">   Source Location   </span>┃<span style=\"font-weight: bold\">    Categories    </span>┃<span style=\"font-weight: bold\"> scvi-tools Encoding </span>┃\n",
       "┡━━━━━━━━━━━━━━━━━━━━━╇━━━━━━━━━━━━━━━━━━╇━━━━━━━━━━━━━━━━━━━━━┩\n",
       "│<span style=\"color: #0087ff; text-decoration-color: #0087ff\"> adata.obs['sample'] </span>│<span style=\"color: #008000; text-decoration-color: #008000\"> 6800STDY12499407 </span>│<span style=\"color: #af00d7; text-decoration-color: #af00d7\">          0          </span>│\n",
       "│<span style=\"color: #0087ff; text-decoration-color: #0087ff\">                     </span>│<span style=\"color: #008000; text-decoration-color: #008000\"> 6800STDY12499408 </span>│<span style=\"color: #af00d7; text-decoration-color: #af00d7\">          1          </span>│\n",
       "│<span style=\"color: #0087ff; text-decoration-color: #0087ff\">                     </span>│<span style=\"color: #008000; text-decoration-color: #008000\"> 6800STDY12499410 </span>│<span style=\"color: #af00d7; text-decoration-color: #af00d7\">          2          </span>│\n",
       "│<span style=\"color: #0087ff; text-decoration-color: #0087ff\">                     </span>│<span style=\"color: #008000; text-decoration-color: #008000\"> 6800STDY12499412 </span>│<span style=\"color: #af00d7; text-decoration-color: #af00d7\">          3          </span>│\n",
       "│<span style=\"color: #0087ff; text-decoration-color: #0087ff\">                     </span>│<span style=\"color: #008000; text-decoration-color: #008000\"> 6800STDY12499413 </span>│<span style=\"color: #af00d7; text-decoration-color: #af00d7\">          4          </span>│\n",
       "└─────────────────────┴──────────────────┴─────────────────────┘\n",
       "</pre>\n"
      ],
      "text/plain": [
       "\u001b[3m                        Batch Categories                        \u001b[0m\n",
       "┏━━━━━━━━━━━━━━━━━━━━━┳━━━━━━━━━━━━━━━━━━┳━━━━━━━━━━━━━━━━━━━━━┓\n",
       "┃\u001b[1m \u001b[0m\u001b[1m  Source Location  \u001b[0m\u001b[1m \u001b[0m┃\u001b[1m \u001b[0m\u001b[1m   Categories   \u001b[0m\u001b[1m \u001b[0m┃\u001b[1m \u001b[0m\u001b[1mscvi-tools Encoding\u001b[0m\u001b[1m \u001b[0m┃\n",
       "┡━━━━━━━━━━━━━━━━━━━━━╇━━━━━━━━━━━━━━━━━━╇━━━━━━━━━━━━━━━━━━━━━┩\n",
       "│\u001b[38;5;33m \u001b[0m\u001b[38;5;33madata.obs['sample']\u001b[0m\u001b[38;5;33m \u001b[0m│\u001b[32m \u001b[0m\u001b[32m6800STDY12499407\u001b[0m\u001b[32m \u001b[0m│\u001b[38;5;128m \u001b[0m\u001b[38;5;128m         0         \u001b[0m\u001b[38;5;128m \u001b[0m│\n",
       "│\u001b[38;5;33m \u001b[0m\u001b[38;5;33m                   \u001b[0m\u001b[38;5;33m \u001b[0m│\u001b[32m \u001b[0m\u001b[32m6800STDY12499408\u001b[0m\u001b[32m \u001b[0m│\u001b[38;5;128m \u001b[0m\u001b[38;5;128m         1         \u001b[0m\u001b[38;5;128m \u001b[0m│\n",
       "│\u001b[38;5;33m \u001b[0m\u001b[38;5;33m                   \u001b[0m\u001b[38;5;33m \u001b[0m│\u001b[32m \u001b[0m\u001b[32m6800STDY12499410\u001b[0m\u001b[32m \u001b[0m│\u001b[38;5;128m \u001b[0m\u001b[38;5;128m         2         \u001b[0m\u001b[38;5;128m \u001b[0m│\n",
       "│\u001b[38;5;33m \u001b[0m\u001b[38;5;33m                   \u001b[0m\u001b[38;5;33m \u001b[0m│\u001b[32m \u001b[0m\u001b[32m6800STDY12499412\u001b[0m\u001b[32m \u001b[0m│\u001b[38;5;128m \u001b[0m\u001b[38;5;128m         3         \u001b[0m\u001b[38;5;128m \u001b[0m│\n",
       "│\u001b[38;5;33m \u001b[0m\u001b[38;5;33m                   \u001b[0m\u001b[38;5;33m \u001b[0m│\u001b[32m \u001b[0m\u001b[32m6800STDY12499413\u001b[0m\u001b[32m \u001b[0m│\u001b[38;5;128m \u001b[0m\u001b[38;5;128m         4         \u001b[0m\u001b[38;5;128m \u001b[0m│\n",
       "└─────────────────────┴──────────────────┴─────────────────────┘\n"
      ]
     },
     "metadata": {},
     "output_type": "display_data"
    },
    {
     "name": "stderr",
     "output_type": "stream",
     "text": [
      "GPU available: True, used: True\n",
      "TPU available: False, using: 0 TPU cores\n",
      "/lustre/scratch117/cellgen/team205/rl20/miniconda3/envs/cell2loc_env/lib/python3.9/site-packages/pytorch_lightning/trainer/configuration_validator.py:99: UserWarning: you passed in a val_dataloader but have no validation_step. Skipping val loop\n",
      "LOCAL_RANK: 0 - CUDA_VISIBLE_DEVICES: [0]\n"
     ]
    },
    {
     "name": "stdout",
     "output_type": "stream",
     "text": [
      "Epoch 1/20000:   0%|                                                | 0/20000 [00:00<?, ?it/s]"
     ]
    },
    {
     "name": "stderr",
     "output_type": "stream",
     "text": [
      "/lustre/scratch117/cellgen/team205/rl20/miniconda3/envs/cell2loc_env/lib/python3.9/site-packages/torch/distributions/gamma.py:71: UserWarning: Specified kernel cache directory could not be created! This disables kernel caching. Specified directory is /nfs/users/nfs_r/rl20/.cache/torch/kernels. This warning will appear only once per process. (Triggered internally at  ../aten/src/ATen/native/cuda/jit_utils.cpp:860.)\n"
     ]
    },
    {
     "name": "stdout",
     "output_type": "stream",
     "text": [
      "Epoch 20000/20000: 100%|███| 20000/20000 [55:17<00:00,  6.03it/s, v_num=1, elbo_train=5.79e+7]\n",
      "CPU times: user 44min 54s, sys: 10min 41s, total: 55min 35s\n",
      "Wall time: 56min 39s\n"
     ]
    },
    {
     "data": {
      "text/plain": [
       "<matplotlib.legend.Legend at 0x14d010ee5160>"
      ]
     },
     "execution_count": 7,
     "metadata": {},
     "output_type": "execute_result"
    },
    {
     "data": {
      "image/png": "[encoded data removed]",
      "text/plain": [
       "<Figure size 432x288 with 1 Axes>"
      ]
     },
     "metadata": {
      "needs_background": "light"
     },
     "output_type": "display_data"
    }
   ],
   "source": [
    "%%time\n",
    "\n",
    "    \n",
    "# read in reference signatures\n",
    "inf_aver = pd.read_csv(f\"{ref_run_name}/inf_aver.csv\", index_col=0)\n",
    "\n",
    "# find shared genes and subset both anndata and reference signatures\n",
    "intersect = np.intersect1d(adata_vis.var_names, inf_aver.index)\n",
    "adata_vis = adata_vis[:, intersect].copy()\n",
    "inf_aver = inf_aver.loc[intersect, :].copy()\n",
    "\n",
    "# prepare anndata for cell2location model\n",
    "scvi.data.setup_anndata(adata=adata_vis, batch_key=\"sample\")\n",
    "scvi.data.view_anndata_setup(adata_vis)\n",
    "\n",
    "# create and train the model\n",
    "mod = cell2location.models.Cell2location(\n",
    "    adata_vis, cell_state_df=inf_aver, \n",
    "    # the expected average cell abundance: tissue-dependent \n",
    "    # hyper-prior which can be estimated from paired histology:\n",
    "    N_cells_per_location=20,\n",
    "    # hyperparameter controlling normalisation of\n",
    "    # within-experiment variation in RNA detection (using default here):\n",
    "    detection_alpha=200\n",
    ") \n",
    "\n",
    "mod.train(max_epochs=20000, \n",
    "          # train using full data (batch_size=None)\n",
    "          batch_size=None, \n",
    "          # use all data points in training because \n",
    "          # we need to estimate cell abundance at all locations\n",
    "          train_size=1,\n",
    "          use_gpu=True)\n",
    "\n",
    "# plot ELBO loss history during training, removing first 100 epochs from the plot\n",
    "mod.plot_history(1000)\n",
    "plt.legend(labels=['full data training']);\n"
   ]
  },
  {
   "cell_type": "code",
   "execution_count": 8,
   "id": "diverse-arthur",
   "metadata": {},
   "outputs": [
    {
     "name": "stdout",
     "output_type": "stream",
     "text": [
      "Sampling local variables, batch: 100%|██████████████████████████| 1/1 [00:38<00:00, 38.61s/it]\n",
      "Sampling global variables, sample: 100%|████████████████████| 999/999 [00:35<00:00, 27.82it/s]\n"
     ]
    },
    {
     "data": {
      "image/png": "[encoded data removed]",
      "text/plain": [
       "<Figure size 432x288 with 1 Axes>"
      ]
     },
     "metadata": {
      "needs_background": "light"
     },
     "output_type": "display_data"
    }
   ],
   "source": [
    "# In this section, we export the estimated cell abundance (summary of the posterior distribution).\n",
    "adata_vis = mod.export_posterior(\n",
    "    adata_vis, sample_kwargs={'num_samples': 1000, 'batch_size': mod.adata.n_obs, 'use_gpu': True}\n",
    ")\n",
    "\n",
    "# Save model\n",
    "mod.save(f\"{run_name}\", overwrite=True)\n",
    "\n",
    "# Save anndata object with results\n",
    "adata_vis.write(f\"{run_name}/sp.h5ad\")\n",
    "\n",
    "# Examine reconstruction accuracy to assess if there are any issues with mapping\n",
    "# the plot should be roughly diagonal, strong deviations will signal problems\n",
    "mod.plot_QC()"
   ]
  },
  {
   "cell_type": "code",
   "execution_count": 9,
   "id": "clinical-hardware",
   "metadata": {},
   "outputs": [
    {
     "name": "stdout",
     "output_type": "stream",
     "text": [
      "### Analysis name: CoLocatedGroupsSklearnNMF_5combinations_10924locations_103factors\n"
     ]
    },
    {
     "name": "stderr",
     "output_type": "stream",
     "text": [
      "/lustre/scratch117/cellgen/team205/rl20/miniconda3/envs/cell2loc_env/lib/python3.9/site-packages/sklearn/decomposition/_nmf.py:1422: FutureWarning: `alpha` was deprecated in version 1.0 and will be removed in 1.2. Use `alpha_W` and `alpha_H` instead\n",
      "/lustre/scratch117/cellgen/team205/rl20/miniconda3/envs/cell2loc_env/lib/python3.9/site-packages/sklearn/decomposition/_nmf.py:1422: FutureWarning: `alpha` was deprecated in version 1.0 and will be removed in 1.2. Use `alpha_W` and `alpha_H` instead\n",
      "/lustre/scratch117/cellgen/team205/rl20/miniconda3/envs/cell2loc_env/lib/python3.9/site-packages/sklearn/decomposition/_nmf.py:1422: FutureWarning: `alpha` was deprecated in version 1.0 and will be removed in 1.2. Use `alpha_W` and `alpha_H` instead\n"
     ]
    },
    {
     "name": "stdout",
     "output_type": "stream",
     "text": [
      "WARNING: saving figure to file /lustre/scratch117/cellgen/team205/rl20/kidney_final/Visium/allgene_epochs120/cell2location_map_core/CoLocatedComb_5to15/CoLocatedGroupsSklearnNMF_10924locations_103factors/spatial/showcell_density_mean_n_fact5_s6800STDY12499407_p99.2.pdf\n",
      "WARNING: saving figure to file /lustre/scratch117/cellgen/team205/rl20/kidney_final/Visium/allgene_epochs120/cell2location_map_core/CoLocatedComb_5to15/CoLocatedGroupsSklearnNMF_10924locations_103factors/spatial/showcell_density_mean_n_fact5_s6800STDY12499408_p99.2.pdf\n",
      "WARNING: saving figure to file /lustre/scratch117/cellgen/team205/rl20/kidney_final/Visium/allgene_epochs120/cell2location_map_core/CoLocatedComb_5to15/CoLocatedGroupsSklearnNMF_10924locations_103factors/spatial/showcell_density_mean_n_fact5_s6800STDY12499410_p99.2.pdf\n",
      "WARNING: saving figure to file /lustre/scratch117/cellgen/team205/rl20/kidney_final/Visium/allgene_epochs120/cell2location_map_core/CoLocatedComb_5to15/CoLocatedGroupsSklearnNMF_10924locations_103factors/spatial/showcell_density_mean_n_fact5_s6800STDY12499412_p99.2.pdf\n",
      "WARNING: saving figure to file /lustre/scratch117/cellgen/team205/rl20/kidney_final/Visium/allgene_epochs120/cell2location_map_core/CoLocatedComb_5to15/CoLocatedGroupsSklearnNMF_10924locations_103factors/spatial/showcell_density_mean_n_fact5_s6800STDY12499413_p99.2.pdf\n",
      "### Analysis name: CoLocatedGroupsSklearnNMF_6combinations_10924locations_103factors\n"
     ]
    },
    {
     "name": "stderr",
     "output_type": "stream",
     "text": [
      "/lustre/scratch117/cellgen/team205/rl20/miniconda3/envs/cell2loc_env/lib/python3.9/site-packages/sklearn/decomposition/_nmf.py:1422: FutureWarning: `alpha` was deprecated in version 1.0 and will be removed in 1.2. Use `alpha_W` and `alpha_H` instead\n",
      "/lustre/scratch117/cellgen/team205/rl20/miniconda3/envs/cell2loc_env/lib/python3.9/site-packages/sklearn/decomposition/_nmf.py:1422: FutureWarning: `alpha` was deprecated in version 1.0 and will be removed in 1.2. Use `alpha_W` and `alpha_H` instead\n",
      "/lustre/scratch117/cellgen/team205/rl20/miniconda3/envs/cell2loc_env/lib/python3.9/site-packages/sklearn/decomposition/_nmf.py:1422: FutureWarning: `alpha` was deprecated in version 1.0 and will be removed in 1.2. Use `alpha_W` and `alpha_H` instead\n"
     ]
    },
    {
     "name": "stdout",
     "output_type": "stream",
     "text": [
      "WARNING: saving figure to file /lustre/scratch117/cellgen/team205/rl20/kidney_final/Visium/allgene_epochs120/cell2location_map_core/CoLocatedComb_5to15/CoLocatedGroupsSklearnNMF_10924locations_103factors/spatial/showcell_density_mean_n_fact6_s6800STDY12499407_p99.2.pdf\n",
      "WARNING: saving figure to file /lustre/scratch117/cellgen/team205/rl20/kidney_final/Visium/allgene_epochs120/cell2location_map_core/CoLocatedComb_5to15/CoLocatedGroupsSklearnNMF_10924locations_103factors/spatial/showcell_density_mean_n_fact6_s6800STDY12499408_p99.2.pdf\n",
      "WARNING: saving figure to file /lustre/scratch117/cellgen/team205/rl20/kidney_final/Visium/allgene_epochs120/cell2location_map_core/CoLocatedComb_5to15/CoLocatedGroupsSklearnNMF_10924locations_103factors/spatial/showcell_density_mean_n_fact6_s6800STDY12499410_p99.2.pdf\n",
      "WARNING: saving figure to file /lustre/scratch117/cellgen/team205/rl20/kidney_final/Visium/allgene_epochs120/cell2location_map_core/CoLocatedComb_5to15/CoLocatedGroupsSklearnNMF_10924locations_103factors/spatial/showcell_density_mean_n_fact6_s6800STDY12499412_p99.2.pdf\n",
      "WARNING: saving figure to file /lustre/scratch117/cellgen/team205/rl20/kidney_final/Visium/allgene_epochs120/cell2location_map_core/CoLocatedComb_5to15/CoLocatedGroupsSklearnNMF_10924locations_103factors/spatial/showcell_density_mean_n_fact6_s6800STDY12499413_p99.2.pdf\n",
      "### Analysis name: CoLocatedGroupsSklearnNMF_7combinations_10924locations_103factors\n"
     ]
    },
    {
     "name": "stderr",
     "output_type": "stream",
     "text": [
      "/lustre/scratch117/cellgen/team205/rl20/miniconda3/envs/cell2loc_env/lib/python3.9/site-packages/sklearn/decomposition/_nmf.py:1422: FutureWarning: `alpha` was deprecated in version 1.0 and will be removed in 1.2. Use `alpha_W` and `alpha_H` instead\n",
      "/lustre/scratch117/cellgen/team205/rl20/miniconda3/envs/cell2loc_env/lib/python3.9/site-packages/sklearn/decomposition/_nmf.py:1422: FutureWarning: `alpha` was deprecated in version 1.0 and will be removed in 1.2. Use `alpha_W` and `alpha_H` instead\n",
      "/lustre/scratch117/cellgen/team205/rl20/miniconda3/envs/cell2loc_env/lib/python3.9/site-packages/sklearn/decomposition/_nmf.py:1422: FutureWarning: `alpha` was deprecated in version 1.0 and will be removed in 1.2. Use `alpha_W` and `alpha_H` instead\n"
     ]
    },
    {
     "name": "stdout",
     "output_type": "stream",
     "text": [
      "WARNING: saving figure to file /lustre/scratch117/cellgen/team205/rl20/kidney_final/Visium/allgene_epochs120/cell2location_map_core/CoLocatedComb_5to15/CoLocatedGroupsSklearnNMF_10924locations_103factors/spatial/showcell_density_mean_n_fact7_s6800STDY12499407_p99.2.pdf\n",
      "WARNING: saving figure to file /lustre/scratch117/cellgen/team205/rl20/kidney_final/Visium/allgene_epochs120/cell2location_map_core/CoLocatedComb_5to15/CoLocatedGroupsSklearnNMF_10924locations_103factors/spatial/showcell_density_mean_n_fact7_s6800STDY12499408_p99.2.pdf\n",
      "WARNING: saving figure to file /lustre/scratch117/cellgen/team205/rl20/kidney_final/Visium/allgene_epochs120/cell2location_map_core/CoLocatedComb_5to15/CoLocatedGroupsSklearnNMF_10924locations_103factors/spatial/showcell_density_mean_n_fact7_s6800STDY12499410_p99.2.pdf\n",
      "WARNING: saving figure to file /lustre/scratch117/cellgen/team205/rl20/kidney_final/Visium/allgene_epochs120/cell2location_map_core/CoLocatedComb_5to15/CoLocatedGroupsSklearnNMF_10924locations_103factors/spatial/showcell_density_mean_n_fact7_s6800STDY12499412_p99.2.pdf\n",
      "WARNING: saving figure to file /lustre/scratch117/cellgen/team205/rl20/kidney_final/Visium/allgene_epochs120/cell2location_map_core/CoLocatedComb_5to15/CoLocatedGroupsSklearnNMF_10924locations_103factors/spatial/showcell_density_mean_n_fact7_s6800STDY12499413_p99.2.pdf\n",
      "### Analysis name: CoLocatedGroupsSklearnNMF_8combinations_10924locations_103factors\n"
     ]
    },
    {
     "name": "stderr",
     "output_type": "stream",
     "text": [
      "/lustre/scratch117/cellgen/team205/rl20/miniconda3/envs/cell2loc_env/lib/python3.9/site-packages/sklearn/decomposition/_nmf.py:1422: FutureWarning: `alpha` was deprecated in version 1.0 and will be removed in 1.2. Use `alpha_W` and `alpha_H` instead\n",
      "/lustre/scratch117/cellgen/team205/rl20/miniconda3/envs/cell2loc_env/lib/python3.9/site-packages/sklearn/decomposition/_nmf.py:1422: FutureWarning: `alpha` was deprecated in version 1.0 and will be removed in 1.2. Use `alpha_W` and `alpha_H` instead\n",
      "/lustre/scratch117/cellgen/team205/rl20/miniconda3/envs/cell2loc_env/lib/python3.9/site-packages/sklearn/decomposition/_nmf.py:1422: FutureWarning: `alpha` was deprecated in version 1.0 and will be removed in 1.2. Use `alpha_W` and `alpha_H` instead\n"
     ]
    },
    {
     "name": "stdout",
     "output_type": "stream",
     "text": [
      "WARNING: saving figure to file /lustre/scratch117/cellgen/team205/rl20/kidney_final/Visium/allgene_epochs120/cell2location_map_core/CoLocatedComb_5to15/CoLocatedGroupsSklearnNMF_10924locations_103factors/spatial/showcell_density_mean_n_fact8_s6800STDY12499407_p99.2.pdf\n",
      "WARNING: saving figure to file /lustre/scratch117/cellgen/team205/rl20/kidney_final/Visium/allgene_epochs120/cell2location_map_core/CoLocatedComb_5to15/CoLocatedGroupsSklearnNMF_10924locations_103factors/spatial/showcell_density_mean_n_fact8_s6800STDY12499408_p99.2.pdf\n",
      "WARNING: saving figure to file /lustre/scratch117/cellgen/team205/rl20/kidney_final/Visium/allgene_epochs120/cell2location_map_core/CoLocatedComb_5to15/CoLocatedGroupsSklearnNMF_10924locations_103factors/spatial/showcell_density_mean_n_fact8_s6800STDY12499410_p99.2.pdf\n",
      "WARNING: saving figure to file /lustre/scratch117/cellgen/team205/rl20/kidney_final/Visium/allgene_epochs120/cell2location_map_core/CoLocatedComb_5to15/CoLocatedGroupsSklearnNMF_10924locations_103factors/spatial/showcell_density_mean_n_fact8_s6800STDY12499412_p99.2.pdf\n",
      "WARNING: saving figure to file /lustre/scratch117/cellgen/team205/rl20/kidney_final/Visium/allgene_epochs120/cell2location_map_core/CoLocatedComb_5to15/CoLocatedGroupsSklearnNMF_10924locations_103factors/spatial/showcell_density_mean_n_fact8_s6800STDY12499413_p99.2.pdf\n",
      "### Analysis name: CoLocatedGroupsSklearnNMF_9combinations_10924locations_103factors\n"
     ]
    },
    {
     "name": "stderr",
     "output_type": "stream",
     "text": [
      "/lustre/scratch117/cellgen/team205/rl20/miniconda3/envs/cell2loc_env/lib/python3.9/site-packages/sklearn/decomposition/_nmf.py:1422: FutureWarning: `alpha` was deprecated in version 1.0 and will be removed in 1.2. Use `alpha_W` and `alpha_H` instead\n",
      "/lustre/scratch117/cellgen/team205/rl20/miniconda3/envs/cell2loc_env/lib/python3.9/site-packages/sklearn/decomposition/_nmf.py:1422: FutureWarning: `alpha` was deprecated in version 1.0 and will be removed in 1.2. Use `alpha_W` and `alpha_H` instead\n",
      "/lustre/scratch117/cellgen/team205/rl20/miniconda3/envs/cell2loc_env/lib/python3.9/site-packages/sklearn/decomposition/_nmf.py:1422: FutureWarning: `alpha` was deprecated in version 1.0 and will be removed in 1.2. Use `alpha_W` and `alpha_H` instead\n"
     ]
    },
    {
     "name": "stdout",
     "output_type": "stream",
     "text": [
      "WARNING: saving figure to file /lustre/scratch117/cellgen/team205/rl20/kidney_final/Visium/allgene_epochs120/cell2location_map_core/CoLocatedComb_5to15/CoLocatedGroupsSklearnNMF_10924locations_103factors/spatial/showcell_density_mean_n_fact9_s6800STDY12499407_p99.2.pdf\n",
      "WARNING: saving figure to file /lustre/scratch117/cellgen/team205/rl20/kidney_final/Visium/allgene_epochs120/cell2location_map_core/CoLocatedComb_5to15/CoLocatedGroupsSklearnNMF_10924locations_103factors/spatial/showcell_density_mean_n_fact9_s6800STDY12499408_p99.2.pdf\n",
      "WARNING: saving figure to file /lustre/scratch117/cellgen/team205/rl20/kidney_final/Visium/allgene_epochs120/cell2location_map_core/CoLocatedComb_5to15/CoLocatedGroupsSklearnNMF_10924locations_103factors/spatial/showcell_density_mean_n_fact9_s6800STDY12499410_p99.2.pdf\n",
      "WARNING: saving figure to file /lustre/scratch117/cellgen/team205/rl20/kidney_final/Visium/allgene_epochs120/cell2location_map_core/CoLocatedComb_5to15/CoLocatedGroupsSklearnNMF_10924locations_103factors/spatial/showcell_density_mean_n_fact9_s6800STDY12499412_p99.2.pdf\n",
      "WARNING: saving figure to file /lustre/scratch117/cellgen/team205/rl20/kidney_final/Visium/allgene_epochs120/cell2location_map_core/CoLocatedComb_5to15/CoLocatedGroupsSklearnNMF_10924locations_103factors/spatial/showcell_density_mean_n_fact9_s6800STDY12499413_p99.2.pdf\n",
      "### Analysis name: CoLocatedGroupsSklearnNMF_10combinations_10924locations_103factors\n"
     ]
    },
    {
     "name": "stderr",
     "output_type": "stream",
     "text": [
      "/lustre/scratch117/cellgen/team205/rl20/miniconda3/envs/cell2loc_env/lib/python3.9/site-packages/sklearn/decomposition/_nmf.py:1422: FutureWarning: `alpha` was deprecated in version 1.0 and will be removed in 1.2. Use `alpha_W` and `alpha_H` instead\n",
      "/lustre/scratch117/cellgen/team205/rl20/miniconda3/envs/cell2loc_env/lib/python3.9/site-packages/sklearn/decomposition/_nmf.py:1422: FutureWarning: `alpha` was deprecated in version 1.0 and will be removed in 1.2. Use `alpha_W` and `alpha_H` instead\n",
      "/lustre/scratch117/cellgen/team205/rl20/miniconda3/envs/cell2loc_env/lib/python3.9/site-packages/sklearn/decomposition/_nmf.py:1422: FutureWarning: `alpha` was deprecated in version 1.0 and will be removed in 1.2. Use `alpha_W` and `alpha_H` instead\n"
     ]
    },
    {
     "name": "stdout",
     "output_type": "stream",
     "text": [
      "WARNING: saving figure to file /lustre/scratch117/cellgen/team205/rl20/kidney_final/Visium/allgene_epochs120/cell2location_map_core/CoLocatedComb_5to15/CoLocatedGroupsSklearnNMF_10924locations_103factors/spatial/showcell_density_mean_n_fact10_s6800STDY12499407_p99.2.pdf\n",
      "WARNING: saving figure to file /lustre/scratch117/cellgen/team205/rl20/kidney_final/Visium/allgene_epochs120/cell2location_map_core/CoLocatedComb_5to15/CoLocatedGroupsSklearnNMF_10924locations_103factors/spatial/showcell_density_mean_n_fact10_s6800STDY12499408_p99.2.pdf\n",
      "WARNING: saving figure to file /lustre/scratch117/cellgen/team205/rl20/kidney_final/Visium/allgene_epochs120/cell2location_map_core/CoLocatedComb_5to15/CoLocatedGroupsSklearnNMF_10924locations_103factors/spatial/showcell_density_mean_n_fact10_s6800STDY12499410_p99.2.pdf\n",
      "WARNING: saving figure to file /lustre/scratch117/cellgen/team205/rl20/kidney_final/Visium/allgene_epochs120/cell2location_map_core/CoLocatedComb_5to15/CoLocatedGroupsSklearnNMF_10924locations_103factors/spatial/showcell_density_mean_n_fact10_s6800STDY12499412_p99.2.pdf\n",
      "WARNING: saving figure to file /lustre/scratch117/cellgen/team205/rl20/kidney_final/Visium/allgene_epochs120/cell2location_map_core/CoLocatedComb_5to15/CoLocatedGroupsSklearnNMF_10924locations_103factors/spatial/showcell_density_mean_n_fact10_s6800STDY12499413_p99.2.pdf\n",
      "### Analysis name: CoLocatedGroupsSklearnNMF_11combinations_10924locations_103factors\n"
     ]
    },
    {
     "name": "stderr",
     "output_type": "stream",
     "text": [
      "/lustre/scratch117/cellgen/team205/rl20/miniconda3/envs/cell2loc_env/lib/python3.9/site-packages/sklearn/decomposition/_nmf.py:1422: FutureWarning: `alpha` was deprecated in version 1.0 and will be removed in 1.2. Use `alpha_W` and `alpha_H` instead\n",
      "/lustre/scratch117/cellgen/team205/rl20/miniconda3/envs/cell2loc_env/lib/python3.9/site-packages/sklearn/decomposition/_nmf.py:1422: FutureWarning: `alpha` was deprecated in version 1.0 and will be removed in 1.2. Use `alpha_W` and `alpha_H` instead\n",
      "/lustre/scratch117/cellgen/team205/rl20/miniconda3/envs/cell2loc_env/lib/python3.9/site-packages/sklearn/decomposition/_nmf.py:1422: FutureWarning: `alpha` was deprecated in version 1.0 and will be removed in 1.2. Use `alpha_W` and `alpha_H` instead\n"
     ]
    },
    {
     "name": "stdout",
     "output_type": "stream",
     "text": [
      "WARNING: saving figure to file /lustre/scratch117/cellgen/team205/rl20/kidney_final/Visium/allgene_epochs120/cell2location_map_core/CoLocatedComb_5to15/CoLocatedGroupsSklearnNMF_10924locations_103factors/spatial/showcell_density_mean_n_fact11_s6800STDY12499407_p99.2.pdf\n",
      "WARNING: saving figure to file /lustre/scratch117/cellgen/team205/rl20/kidney_final/Visium/allgene_epochs120/cell2location_map_core/CoLocatedComb_5to15/CoLocatedGroupsSklearnNMF_10924locations_103factors/spatial/showcell_density_mean_n_fact11_s6800STDY12499408_p99.2.pdf\n",
      "WARNING: saving figure to file /lustre/scratch117/cellgen/team205/rl20/kidney_final/Visium/allgene_epochs120/cell2location_map_core/CoLocatedComb_5to15/CoLocatedGroupsSklearnNMF_10924locations_103factors/spatial/showcell_density_mean_n_fact11_s6800STDY12499410_p99.2.pdf\n",
      "WARNING: saving figure to file /lustre/scratch117/cellgen/team205/rl20/kidney_final/Visium/allgene_epochs120/cell2location_map_core/CoLocatedComb_5to15/CoLocatedGroupsSklearnNMF_10924locations_103factors/spatial/showcell_density_mean_n_fact11_s6800STDY12499412_p99.2.pdf\n",
      "WARNING: saving figure to file /lustre/scratch117/cellgen/team205/rl20/kidney_final/Visium/allgene_epochs120/cell2location_map_core/CoLocatedComb_5to15/CoLocatedGroupsSklearnNMF_10924locations_103factors/spatial/showcell_density_mean_n_fact11_s6800STDY12499413_p99.2.pdf\n",
      "### Analysis name: CoLocatedGroupsSklearnNMF_12combinations_10924locations_103factors\n"
     ]
    },
    {
     "name": "stderr",
     "output_type": "stream",
     "text": [
      "/lustre/scratch117/cellgen/team205/rl20/miniconda3/envs/cell2loc_env/lib/python3.9/site-packages/sklearn/decomposition/_nmf.py:1422: FutureWarning: `alpha` was deprecated in version 1.0 and will be removed in 1.2. Use `alpha_W` and `alpha_H` instead\n",
      "/lustre/scratch117/cellgen/team205/rl20/miniconda3/envs/cell2loc_env/lib/python3.9/site-packages/sklearn/decomposition/_nmf.py:1422: FutureWarning: `alpha` was deprecated in version 1.0 and will be removed in 1.2. Use `alpha_W` and `alpha_H` instead\n",
      "/lustre/scratch117/cellgen/team205/rl20/miniconda3/envs/cell2loc_env/lib/python3.9/site-packages/sklearn/decomposition/_nmf.py:1422: FutureWarning: `alpha` was deprecated in version 1.0 and will be removed in 1.2. Use `alpha_W` and `alpha_H` instead\n"
     ]
    },
    {
     "name": "stdout",
     "output_type": "stream",
     "text": [
      "WARNING: saving figure to file /lustre/scratch117/cellgen/team205/rl20/kidney_final/Visium/allgene_epochs120/cell2location_map_core/CoLocatedComb_5to15/CoLocatedGroupsSklearnNMF_10924locations_103factors/spatial/showcell_density_mean_n_fact12_s6800STDY12499407_p99.2.pdf\n",
      "WARNING: saving figure to file /lustre/scratch117/cellgen/team205/rl20/kidney_final/Visium/allgene_epochs120/cell2location_map_core/CoLocatedComb_5to15/CoLocatedGroupsSklearnNMF_10924locations_103factors/spatial/showcell_density_mean_n_fact12_s6800STDY12499408_p99.2.pdf\n",
      "WARNING: saving figure to file /lustre/scratch117/cellgen/team205/rl20/kidney_final/Visium/allgene_epochs120/cell2location_map_core/CoLocatedComb_5to15/CoLocatedGroupsSklearnNMF_10924locations_103factors/spatial/showcell_density_mean_n_fact12_s6800STDY12499410_p99.2.pdf\n",
      "WARNING: saving figure to file /lustre/scratch117/cellgen/team205/rl20/kidney_final/Visium/allgene_epochs120/cell2location_map_core/CoLocatedComb_5to15/CoLocatedGroupsSklearnNMF_10924locations_103factors/spatial/showcell_density_mean_n_fact12_s6800STDY12499412_p99.2.pdf\n",
      "WARNING: saving figure to file /lustre/scratch117/cellgen/team205/rl20/kidney_final/Visium/allgene_epochs120/cell2location_map_core/CoLocatedComb_5to15/CoLocatedGroupsSklearnNMF_10924locations_103factors/spatial/showcell_density_mean_n_fact12_s6800STDY12499413_p99.2.pdf\n",
      "### Analysis name: CoLocatedGroupsSklearnNMF_13combinations_10924locations_103factors\n"
     ]
    },
    {
     "name": "stderr",
     "output_type": "stream",
     "text": [
      "/lustre/scratch117/cellgen/team205/rl20/miniconda3/envs/cell2loc_env/lib/python3.9/site-packages/sklearn/decomposition/_nmf.py:1422: FutureWarning: `alpha` was deprecated in version 1.0 and will be removed in 1.2. Use `alpha_W` and `alpha_H` instead\n",
      "/lustre/scratch117/cellgen/team205/rl20/miniconda3/envs/cell2loc_env/lib/python3.9/site-packages/sklearn/decomposition/_nmf.py:1422: FutureWarning: `alpha` was deprecated in version 1.0 and will be removed in 1.2. Use `alpha_W` and `alpha_H` instead\n",
      "/lustre/scratch117/cellgen/team205/rl20/miniconda3/envs/cell2loc_env/lib/python3.9/site-packages/sklearn/decomposition/_nmf.py:1422: FutureWarning: `alpha` was deprecated in version 1.0 and will be removed in 1.2. Use `alpha_W` and `alpha_H` instead\n"
     ]
    },
    {
     "name": "stdout",
     "output_type": "stream",
     "text": [
      "WARNING: saving figure to file /lustre/scratch117/cellgen/team205/rl20/kidney_final/Visium/allgene_epochs120/cell2location_map_core/CoLocatedComb_5to15/CoLocatedGroupsSklearnNMF_10924locations_103factors/spatial/showcell_density_mean_n_fact13_s6800STDY12499407_p99.2.pdf\n",
      "WARNING: saving figure to file /lustre/scratch117/cellgen/team205/rl20/kidney_final/Visium/allgene_epochs120/cell2location_map_core/CoLocatedComb_5to15/CoLocatedGroupsSklearnNMF_10924locations_103factors/spatial/showcell_density_mean_n_fact13_s6800STDY12499408_p99.2.pdf\n",
      "WARNING: saving figure to file /lustre/scratch117/cellgen/team205/rl20/kidney_final/Visium/allgene_epochs120/cell2location_map_core/CoLocatedComb_5to15/CoLocatedGroupsSklearnNMF_10924locations_103factors/spatial/showcell_density_mean_n_fact13_s6800STDY12499410_p99.2.pdf\n",
      "WARNING: saving figure to file /lustre/scratch117/cellgen/team205/rl20/kidney_final/Visium/allgene_epochs120/cell2location_map_core/CoLocatedComb_5to15/CoLocatedGroupsSklearnNMF_10924locations_103factors/spatial/showcell_density_mean_n_fact13_s6800STDY12499412_p99.2.pdf\n",
      "WARNING: saving figure to file /lustre/scratch117/cellgen/team205/rl20/kidney_final/Visium/allgene_epochs120/cell2location_map_core/CoLocatedComb_5to15/CoLocatedGroupsSklearnNMF_10924locations_103factors/spatial/showcell_density_mean_n_fact13_s6800STDY12499413_p99.2.pdf\n",
      "### Analysis name: CoLocatedGroupsSklearnNMF_14combinations_10924locations_103factors\n"
     ]
    },
    {
     "name": "stderr",
     "output_type": "stream",
     "text": [
      "/lustre/scratch117/cellgen/team205/rl20/miniconda3/envs/cell2loc_env/lib/python3.9/site-packages/sklearn/decomposition/_nmf.py:1422: FutureWarning: `alpha` was deprecated in version 1.0 and will be removed in 1.2. Use `alpha_W` and `alpha_H` instead\n",
      "/lustre/scratch117/cellgen/team205/rl20/miniconda3/envs/cell2loc_env/lib/python3.9/site-packages/sklearn/decomposition/_nmf.py:1422: FutureWarning: `alpha` was deprecated in version 1.0 and will be removed in 1.2. Use `alpha_W` and `alpha_H` instead\n",
      "/lustre/scratch117/cellgen/team205/rl20/miniconda3/envs/cell2loc_env/lib/python3.9/site-packages/sklearn/decomposition/_nmf.py:1422: FutureWarning: `alpha` was deprecated in version 1.0 and will be removed in 1.2. Use `alpha_W` and `alpha_H` instead\n"
     ]
    },
    {
     "name": "stdout",
     "output_type": "stream",
     "text": [
      "WARNING: saving figure to file /lustre/scratch117/cellgen/team205/rl20/kidney_final/Visium/allgene_epochs120/cell2location_map_core/CoLocatedComb_5to15/CoLocatedGroupsSklearnNMF_10924locations_103factors/spatial/showcell_density_mean_n_fact14_s6800STDY12499407_p99.2.pdf\n",
      "WARNING: saving figure to file /lustre/scratch117/cellgen/team205/rl20/kidney_final/Visium/allgene_epochs120/cell2location_map_core/CoLocatedComb_5to15/CoLocatedGroupsSklearnNMF_10924locations_103factors/spatial/showcell_density_mean_n_fact14_s6800STDY12499408_p99.2.pdf\n",
      "WARNING: saving figure to file /lustre/scratch117/cellgen/team205/rl20/kidney_final/Visium/allgene_epochs120/cell2location_map_core/CoLocatedComb_5to15/CoLocatedGroupsSklearnNMF_10924locations_103factors/spatial/showcell_density_mean_n_fact14_s6800STDY12499410_p99.2.pdf\n",
      "WARNING: saving figure to file /lustre/scratch117/cellgen/team205/rl20/kidney_final/Visium/allgene_epochs120/cell2location_map_core/CoLocatedComb_5to15/CoLocatedGroupsSklearnNMF_10924locations_103factors/spatial/showcell_density_mean_n_fact14_s6800STDY12499412_p99.2.pdf\n",
      "WARNING: saving figure to file /lustre/scratch117/cellgen/team205/rl20/kidney_final/Visium/allgene_epochs120/cell2location_map_core/CoLocatedComb_5to15/CoLocatedGroupsSklearnNMF_10924locations_103factors/spatial/showcell_density_mean_n_fact14_s6800STDY12499413_p99.2.pdf\n"
     ]
    }
   ],
   "source": [
    "from cell2location import run_colocation\n",
    "res_dict, adata_vis = run_colocation(\n",
    "    adata_vis,\n",
    "    model_name='CoLocatedGroupsSklearnNMF',\n",
    "    train_args={\n",
    "      'n_fact': np.arange(5, 15), # IMPORTANT: use a wider range of the number of factors (5-30)\n",
    "      'sample_name_col': 'sample', # columns in adata_vis.obs that identifies sample\n",
    "      'n_restarts': 3 # number of training restarts\n",
    "    },\n",
    "    export_args={'path': f'{run_name}/CoLocatedComb_5to15/'}\n",
    ")"
   ]
  },
  {
   "cell_type": "code",
   "execution_count": 10,
   "id": "gothic-leeds",
   "metadata": {},
   "outputs": [
    {
     "name": "stdout",
     "output_type": "stream",
     "text": [
      "### Analysis name: CoLocatedGroupsSklearnNMF_16combinations_10924locations_103factors\n"
     ]
    },
    {
     "name": "stderr",
     "output_type": "stream",
     "text": [
      "/lustre/scratch117/cellgen/team205/rl20/miniconda3/envs/cell2loc_env/lib/python3.9/site-packages/sklearn/decomposition/_nmf.py:1422: FutureWarning: `alpha` was deprecated in version 1.0 and will be removed in 1.2. Use `alpha_W` and `alpha_H` instead\n",
      "/lustre/scratch117/cellgen/team205/rl20/miniconda3/envs/cell2loc_env/lib/python3.9/site-packages/sklearn/decomposition/_nmf.py:1422: FutureWarning: `alpha` was deprecated in version 1.0 and will be removed in 1.2. Use `alpha_W` and `alpha_H` instead\n",
      "/lustre/scratch117/cellgen/team205/rl20/miniconda3/envs/cell2loc_env/lib/python3.9/site-packages/sklearn/decomposition/_nmf.py:1422: FutureWarning: `alpha` was deprecated in version 1.0 and will be removed in 1.2. Use `alpha_W` and `alpha_H` instead\n"
     ]
    },
    {
     "name": "stdout",
     "output_type": "stream",
     "text": [
      "WARNING: saving figure to file /lustre/scratch117/cellgen/team205/rl20/kidney_final/Visium/allgene_epochs120/cell2location_map_core/CoLocatedComb_16to20/CoLocatedGroupsSklearnNMF_10924locations_103factors/spatial/showcell_density_mean_n_fact16_s6800STDY12499407_p99.2.pdf\n",
      "WARNING: saving figure to file /lustre/scratch117/cellgen/team205/rl20/kidney_final/Visium/allgene_epochs120/cell2location_map_core/CoLocatedComb_16to20/CoLocatedGroupsSklearnNMF_10924locations_103factors/spatial/showcell_density_mean_n_fact16_s6800STDY12499408_p99.2.pdf\n",
      "WARNING: saving figure to file /lustre/scratch117/cellgen/team205/rl20/kidney_final/Visium/allgene_epochs120/cell2location_map_core/CoLocatedComb_16to20/CoLocatedGroupsSklearnNMF_10924locations_103factors/spatial/showcell_density_mean_n_fact16_s6800STDY12499410_p99.2.pdf\n",
      "WARNING: saving figure to file /lustre/scratch117/cellgen/team205/rl20/kidney_final/Visium/allgene_epochs120/cell2location_map_core/CoLocatedComb_16to20/CoLocatedGroupsSklearnNMF_10924locations_103factors/spatial/showcell_density_mean_n_fact16_s6800STDY12499412_p99.2.pdf\n",
      "WARNING: saving figure to file /lustre/scratch117/cellgen/team205/rl20/kidney_final/Visium/allgene_epochs120/cell2location_map_core/CoLocatedComb_16to20/CoLocatedGroupsSklearnNMF_10924locations_103factors/spatial/showcell_density_mean_n_fact16_s6800STDY12499413_p99.2.pdf\n",
      "### Analysis name: CoLocatedGroupsSklearnNMF_17combinations_10924locations_103factors\n"
     ]
    },
    {
     "name": "stderr",
     "output_type": "stream",
     "text": [
      "/lustre/scratch117/cellgen/team205/rl20/miniconda3/envs/cell2loc_env/lib/python3.9/site-packages/sklearn/decomposition/_nmf.py:1422: FutureWarning: `alpha` was deprecated in version 1.0 and will be removed in 1.2. Use `alpha_W` and `alpha_H` instead\n",
      "/lustre/scratch117/cellgen/team205/rl20/miniconda3/envs/cell2loc_env/lib/python3.9/site-packages/sklearn/decomposition/_nmf.py:1422: FutureWarning: `alpha` was deprecated in version 1.0 and will be removed in 1.2. Use `alpha_W` and `alpha_H` instead\n",
      "/lustre/scratch117/cellgen/team205/rl20/miniconda3/envs/cell2loc_env/lib/python3.9/site-packages/sklearn/decomposition/_nmf.py:1422: FutureWarning: `alpha` was deprecated in version 1.0 and will be removed in 1.2. Use `alpha_W` and `alpha_H` instead\n"
     ]
    },
    {
     "name": "stdout",
     "output_type": "stream",
     "text": [
      "WARNING: saving figure to file /lustre/scratch117/cellgen/team205/rl20/kidney_final/Visium/allgene_epochs120/cell2location_map_core/CoLocatedComb_16to20/CoLocatedGroupsSklearnNMF_10924locations_103factors/spatial/showcell_density_mean_n_fact17_s6800STDY12499407_p99.2.pdf\n",
      "WARNING: saving figure to file /lustre/scratch117/cellgen/team205/rl20/kidney_final/Visium/allgene_epochs120/cell2location_map_core/CoLocatedComb_16to20/CoLocatedGroupsSklearnNMF_10924locations_103factors/spatial/showcell_density_mean_n_fact17_s6800STDY12499408_p99.2.pdf\n",
      "WARNING: saving figure to file /lustre/scratch117/cellgen/team205/rl20/kidney_final/Visium/allgene_epochs120/cell2location_map_core/CoLocatedComb_16to20/CoLocatedGroupsSklearnNMF_10924locations_103factors/spatial/showcell_density_mean_n_fact17_s6800STDY12499410_p99.2.pdf\n",
      "WARNING: saving figure to file /lustre/scratch117/cellgen/team205/rl20/kidney_final/Visium/allgene_epochs120/cell2location_map_core/CoLocatedComb_16to20/CoLocatedGroupsSklearnNMF_10924locations_103factors/spatial/showcell_density_mean_n_fact17_s6800STDY12499412_p99.2.pdf\n",
      "WARNING: saving figure to file /lustre/scratch117/cellgen/team205/rl20/kidney_final/Visium/allgene_epochs120/cell2location_map_core/CoLocatedComb_16to20/CoLocatedGroupsSklearnNMF_10924locations_103factors/spatial/showcell_density_mean_n_fact17_s6800STDY12499413_p99.2.pdf\n",
      "### Analysis name: CoLocatedGroupsSklearnNMF_18combinations_10924locations_103factors\n"
     ]
    },
    {
     "name": "stderr",
     "output_type": "stream",
     "text": [
      "/lustre/scratch117/cellgen/team205/rl20/miniconda3/envs/cell2loc_env/lib/python3.9/site-packages/sklearn/decomposition/_nmf.py:1422: FutureWarning: `alpha` was deprecated in version 1.0 and will be removed in 1.2. Use `alpha_W` and `alpha_H` instead\n",
      "/lustre/scratch117/cellgen/team205/rl20/miniconda3/envs/cell2loc_env/lib/python3.9/site-packages/sklearn/decomposition/_nmf.py:1422: FutureWarning: `alpha` was deprecated in version 1.0 and will be removed in 1.2. Use `alpha_W` and `alpha_H` instead\n",
      "/lustre/scratch117/cellgen/team205/rl20/miniconda3/envs/cell2loc_env/lib/python3.9/site-packages/sklearn/decomposition/_nmf.py:1422: FutureWarning: `alpha` was deprecated in version 1.0 and will be removed in 1.2. Use `alpha_W` and `alpha_H` instead\n"
     ]
    },
    {
     "name": "stdout",
     "output_type": "stream",
     "text": [
      "WARNING: saving figure to file /lustre/scratch117/cellgen/team205/rl20/kidney_final/Visium/allgene_epochs120/cell2location_map_core/CoLocatedComb_16to20/CoLocatedGroupsSklearnNMF_10924locations_103factors/spatial/showcell_density_mean_n_fact18_s6800STDY12499407_p99.2.pdf\n",
      "WARNING: saving figure to file /lustre/scratch117/cellgen/team205/rl20/kidney_final/Visium/allgene_epochs120/cell2location_map_core/CoLocatedComb_16to20/CoLocatedGroupsSklearnNMF_10924locations_103factors/spatial/showcell_density_mean_n_fact18_s6800STDY12499408_p99.2.pdf\n",
      "WARNING: saving figure to file /lustre/scratch117/cellgen/team205/rl20/kidney_final/Visium/allgene_epochs120/cell2location_map_core/CoLocatedComb_16to20/CoLocatedGroupsSklearnNMF_10924locations_103factors/spatial/showcell_density_mean_n_fact18_s6800STDY12499410_p99.2.pdf\n",
      "WARNING: saving figure to file /lustre/scratch117/cellgen/team205/rl20/kidney_final/Visium/allgene_epochs120/cell2location_map_core/CoLocatedComb_16to20/CoLocatedGroupsSklearnNMF_10924locations_103factors/spatial/showcell_density_mean_n_fact18_s6800STDY12499412_p99.2.pdf\n",
      "WARNING: saving figure to file /lustre/scratch117/cellgen/team205/rl20/kidney_final/Visium/allgene_epochs120/cell2location_map_core/CoLocatedComb_16to20/CoLocatedGroupsSklearnNMF_10924locations_103factors/spatial/showcell_density_mean_n_fact18_s6800STDY12499413_p99.2.pdf\n",
      "### Analysis name: CoLocatedGroupsSklearnNMF_19combinations_10924locations_103factors\n"
     ]
    },
    {
     "name": "stderr",
     "output_type": "stream",
     "text": [
      "/lustre/scratch117/cellgen/team205/rl20/miniconda3/envs/cell2loc_env/lib/python3.9/site-packages/sklearn/decomposition/_nmf.py:1422: FutureWarning: `alpha` was deprecated in version 1.0 and will be removed in 1.2. Use `alpha_W` and `alpha_H` instead\n",
      "/lustre/scratch117/cellgen/team205/rl20/miniconda3/envs/cell2loc_env/lib/python3.9/site-packages/sklearn/decomposition/_nmf.py:1422: FutureWarning: `alpha` was deprecated in version 1.0 and will be removed in 1.2. Use `alpha_W` and `alpha_H` instead\n",
      "/lustre/scratch117/cellgen/team205/rl20/miniconda3/envs/cell2loc_env/lib/python3.9/site-packages/sklearn/decomposition/_nmf.py:1422: FutureWarning: `alpha` was deprecated in version 1.0 and will be removed in 1.2. Use `alpha_W` and `alpha_H` instead\n"
     ]
    },
    {
     "name": "stdout",
     "output_type": "stream",
     "text": [
      "WARNING: saving figure to file /lustre/scratch117/cellgen/team205/rl20/kidney_final/Visium/allgene_epochs120/cell2location_map_core/CoLocatedComb_16to20/CoLocatedGroupsSklearnNMF_10924locations_103factors/spatial/showcell_density_mean_n_fact19_s6800STDY12499407_p99.2.pdf\n",
      "WARNING: saving figure to file /lustre/scratch117/cellgen/team205/rl20/kidney_final/Visium/allgene_epochs120/cell2location_map_core/CoLocatedComb_16to20/CoLocatedGroupsSklearnNMF_10924locations_103factors/spatial/showcell_density_mean_n_fact19_s6800STDY12499408_p99.2.pdf\n",
      "WARNING: saving figure to file /lustre/scratch117/cellgen/team205/rl20/kidney_final/Visium/allgene_epochs120/cell2location_map_core/CoLocatedComb_16to20/CoLocatedGroupsSklearnNMF_10924locations_103factors/spatial/showcell_density_mean_n_fact19_s6800STDY12499410_p99.2.pdf\n",
      "WARNING: saving figure to file /lustre/scratch117/cellgen/team205/rl20/kidney_final/Visium/allgene_epochs120/cell2location_map_core/CoLocatedComb_16to20/CoLocatedGroupsSklearnNMF_10924locations_103factors/spatial/showcell_density_mean_n_fact19_s6800STDY12499412_p99.2.pdf\n",
      "WARNING: saving figure to file /lustre/scratch117/cellgen/team205/rl20/kidney_final/Visium/allgene_epochs120/cell2location_map_core/CoLocatedComb_16to20/CoLocatedGroupsSklearnNMF_10924locations_103factors/spatial/showcell_density_mean_n_fact19_s6800STDY12499413_p99.2.pdf\n"
     ]
    }
   ],
   "source": [
    "from cell2location import run_colocation\n",
    "res_dict, adata_vis = run_colocation(\n",
    "    adata_vis,\n",
    "    model_name='CoLocatedGroupsSklearnNMF',\n",
    "    train_args={\n",
    "      'n_fact': np.arange(16, 20), # IMPORTANT: use a wider range of the number of factors (5-30)\n",
    "      'sample_name_col': 'sample', # columns in adata_vis.obs that identifies sample\n",
    "      'n_restarts': 3 # number of training restarts\n",
    "    },\n",
    "    export_args={'path': f'{run_name}/CoLocatedComb_16to20/'}\n",
    ")"
   ]
  },
  {
   "cell_type": "code",
   "execution_count": null,
   "id": "diagnostic-ecuador",
   "metadata": {},
   "outputs": [],
   "source": []
  }
 ],
 "metadata": {
  "environment": {
   "kernel": "conda-env-cell2loc_env-py",
   "name": "pytorch-gpu.1-10.m90",
   "type": "gcloud",
   "uri": "gcr.io/deeplearning-platform-release/pytorch-gpu.1-10:m90"
  },
  "kernelspec": {
   "display_name": "Environment (cell2loc_env)",
   "language": "python",
   "name": "cell2loc_env"
  },
  "language_info": {
   "codemirror_mode": {
    "name": "ipython",
    "version": 3
   },
   "file_extension": ".py",
   "mimetype": "text/x-python",
   "name": "python",
   "nbconvert_exporter": "python",
   "pygments_lexer": "ipython3",
   "version": "3.9.12"
  }
 },
 "nbformat": 4,
 "nbformat_minor": 5
}
